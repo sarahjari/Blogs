{
 "cells": [
  {
   "cell_type": "markdown",
   "metadata": {},
   "source": [
    "## Why Cleaning Data is Important\n",
    "\n",
    "Data cleansing is the process of detecting inaccurate or incomplete values and correcting or removing them. It is an important, if not the most important, step in data exploration. Here are two reasons why:\n",
    "1. Cleaning your data improves the accuracy of your data\n",
    "2. Cleaning your data reveals its limitations thus elevating the integrity of your data\n",
    "\n",
    "If your data reveals an inaccurate depiction of your audience, then your insights are useless. Inaccurate data feeds into the GIGO (garbage in, garbage out) phenomenon. If your data values are misleading, your premise will be flawed and lead to false impressions. \n",
    "\n",
    "Let's say you work for a major hair company. You are tasked to learn the average number of bottles your women-identified customers buy monthly. The survey findings you are analyzing did not obligate the individual to fill out their gender. You decide to jump into data visualization without checking your data. You don't realize that over sixty percent of your responses don't include a gender. Ultimately, your insights don't answer the question. Your supervisor wanted to strategize a women-centric ad campaign. But your data tells them the buying habits of every customer. What's worst is you've presented this data without knowing of its limitations. Business strategies and decisions go awry with questions are given inaccurate answers.\n",
    "\n",
    "This leads to my next point. Cleaning your data reveals the limitations of your data, thereby elevating the integrity of your insights. Let's say this same hair company develops a new shampoo that activates hair growth with daily use. The strategy assumes daily use will increase sell. It doesn't and the company wants to know why. You find that most of your survey data point to an increase in monthly purchases. But, you've learned from your previous mistake and decide to analyze your data for flaws. In doing so, you find most answers are blank. Additionally, the answers   that are there are predominantly from one ethnic consumer group. This is an important limitation to your dataset. You don't have as large of a sample as you initially believed. Also, different ethnicities require different hair washing processes. This particular group often requires daily washes, which is why the data shows an increase in sells. However, this is not necessarily true for all groups, which may explain why overall sales remain the same. Finding this information out can prove to be invaluable to your company. What at first appears to be GIGO, becomes useful within the context of its limitations. \n",
    "\n",
    "Recognizing the value your data can offer is vital to real-world applications. But that level of reliability comes from its quality. "
   ]
  },
  {
   "cell_type": "code",
   "execution_count": null,
   "metadata": {},
   "outputs": [],
   "source": []
  }
 ],
 "metadata": {
  "kernelspec": {
   "display_name": "Python 3",
   "language": "python",
   "name": "python3"
  },
  "language_info": {
   "codemirror_mode": {
    "name": "ipython",
    "version": 3
   },
   "file_extension": ".py",
   "mimetype": "text/x-python",
   "name": "python",
   "nbconvert_exporter": "python",
   "pygments_lexer": "ipython3",
   "version": "3.7.0"
  }
 },
 "nbformat": 4,
 "nbformat_minor": 2
}
