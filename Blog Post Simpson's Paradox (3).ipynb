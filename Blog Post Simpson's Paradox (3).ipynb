{
 "cells": [
  {
   "cell_type": "markdown",
   "metadata": {},
   "source": [
    "## Understanding the Simpson's Paradox\n",
    "\n",
    "I came across an interesting statistical phenomenon I felt compelled to share. The Simpson’s paradox. It describes when an average over many groups is different from the average for each individual group. In other words, a trend appears one way in the individual groups, but then disappears or reverses when the groups are combined. This is often caused by “lurking variables” that are overlooked or not initially considered.\n",
    "\n",
    "One of the most well-known examples of this paradox is a [study](http://science.sciencemag.org/content/187/4175/398) of gender bias in graduate school admissions at the University of California, Berkeley. Admissions for fall of 1973 showed 44% of men  to 35% of women admitted to graduate school at the university. From this aggregated data, it appeared that women were less likely to be admitted than men. But when examining the individual departments, a different pattern revealed itself. The data showed a “small but statistically significant bias in favor of women.” And of the eight-five departments, six of them showed significant bias against men. \n",
    "\n",
    "So what happened? Which data is telling the truth? Well, both. The paper concluded that women were more likely to apply to highly competitive programs with low admittance rates. Whereas men applied to programs with less competition and higher admittance rates. Overall, women were less admitted. But, this was due to a \"lurking third variable,\" the departments.\n",
    "\n",
    "The lesson here is a reminder that statistical relationships are not immutable. Relationships between variables can change depending on how they're being used.\n",
    "\n",
    "Simpson’s Paradox demonstrates the issues that can result from aggregating data. The risk of the paradox highlights the importance of understanding the groups that exist within a dataset; the importance of decoding the causal relationships present among the data points. And the importance of continually asking questions."
   ]
  },
  {
   "cell_type": "code",
   "execution_count": null,
   "metadata": {},
   "outputs": [],
   "source": []
  }
 ],
 "metadata": {
  "kernelspec": {
   "display_name": "Python 3",
   "language": "python",
   "name": "python3"
  },
  "language_info": {
   "codemirror_mode": {
    "name": "ipython",
    "version": 3
   },
   "file_extension": ".py",
   "mimetype": "text/x-python",
   "name": "python",
   "nbconvert_exporter": "python",
   "pygments_lexer": "ipython3",
   "version": "3.7.0"
  }
 },
 "nbformat": 4,
 "nbformat_minor": 2
}
