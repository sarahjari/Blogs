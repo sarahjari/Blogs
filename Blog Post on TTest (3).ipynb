{
 "cells": [
  {
   "cell_type": "markdown",
   "metadata": {},
   "source": [
    "## What Beer Research Contributed to Data Science\n",
    "\n",
    "In 1908, a Guiness Company worker in Ireland, by the name of William Sealy Gosset, invented the Student's T-test. The company was testing varieties of barley for their beer, and Gosset wanted to know if their various experiments were providing results that were significant. At the time they were achieving results by using descriptive statistics. Descriptive statistics describes data you already have, an example is the mean. It cannot project generalizations beyond your data. Gosset wanted to be able to make inferences that went beyond the data they were collecting. He also wanted to reduce bias in their experimentation. To do this, he created the t-test. \n",
    "\n",
    "The t-test is a statistical check that objectively checks whether two means (or averages) are reliably different from one another. It does this by calculating the variance (or difference) between the two groups and dividing it by the variance within the groups.\n",
    "\n",
    "This is the t-test formula:\n",
    "\n",
    "$$t = \\frac{\\bar{x_1}-\\bar{x_2}}{\\sqrt{s^2_1/N_1+s^2_2/N_2}}$$\n",
    "\n",
    "$\\bar{x_1}$ and $\\bar{x_2}$ represent the sample means of groups 1 and 2.\n",
    "\n",
    "$s_1$ and $s_2$ represent the sample standard deviations of groups 1 and 2.\n",
    "\n",
    "$N_1$ and $N_2$ represent the sample sizes for groups 1 and 2.\n",
    "\n",
    "\n",
    "If the t-value is large, then we can conclude the groups are different. If the t-value is small, we conclude the groups are probably the same. How do we know if the t-value is big enough to show a significant difference? Each t-value has a p-value. The p-value is the \"probability value.\" It tells us the likelihood of seeing the same results if the test were to be repeated. The lower the p-value, the more reliable or \"statistically significant\" the experiment results are. The p-value evaluates to a number between 0 and 1. In most sciences, data science included, a p-value less than or equal to 0.5 is sought. A p-value of 0.5 or 5% means we can have a 95% confidence in the results of our data.\n",
    "\n",
    "It is important to note that the t-test and p-value represent the probability that the null hypothesis can be rejected. In experiments, the null hypothesis states there is no-effect on the test group. So a 95% confidence interval does not mean the actual hypothesis is accepted. What this confirms is there is an effect in your test group. Additional tests and experimentation can lead you to what that effect is. Hopefully it leads to a correct hypothesis!"
   ]
  }
 ],
 "metadata": {
  "kernelspec": {
   "display_name": "Python 3",
   "language": "python",
   "name": "python3"
  },
  "language_info": {
   "codemirror_mode": {
    "name": "ipython",
    "version": 3
   },
   "file_extension": ".py",
   "mimetype": "text/x-python",
   "name": "python",
   "nbconvert_exporter": "python",
   "pygments_lexer": "ipython3",
   "version": "3.7.0"
  }
 },
 "nbformat": 4,
 "nbformat_minor": 2
}
